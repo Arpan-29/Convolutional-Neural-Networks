{
 "cells": [
  {
   "cell_type": "code",
   "execution_count": 1,
   "metadata": {},
   "outputs": [
    {
     "name": "stderr",
     "output_type": "stream",
     "text": [
      "Using TensorFlow backend.\n"
     ]
    }
   ],
   "source": [
    "import numpy as np\n",
    "from keras import layers\n",
    "from keras.layers import Input, Dense, Activation, BatchNormalization, Conv2D, MaxPooling2D, ZeroPadding2D, Flatten\n",
    "from keras.layers import AveragePooling2D, Dropout, GlobalMaxPooling2D, GlobalAveragePooling2D\n",
    "from keras.models import Model\n",
    "from keras.preprocessing import image\n",
    "from keras.utils import layer_utils\n",
    "from keras.utils.data_utils import get_file\n",
    "from keras.applications.imagenet_utils import preprocess_input\n",
    "from kt_utils import *\n",
    "\n",
    "import keras.backend as K\n",
    "K.set_image_data_format('channels_last')\n",
    "import matplotlib.pyplot as plt\n",
    "\n",
    "%matplotlib inline"
   ]
  },
  {
   "cell_type": "code",
   "execution_count": 2,
   "metadata": {},
   "outputs": [
    {
     "name": "stdout",
     "output_type": "stream",
     "text": [
      "number of training examples = 600\n",
      "number of test examples = 150\n",
      "X_train shape: (600, 64, 64, 3)\n",
      "Y_train shape: (600, 1)\n",
      "X_test shape: (150, 64, 64, 3)\n",
      "Y_test shape: (150, 1)\n"
     ]
    }
   ],
   "source": [
    "X_train_orig, Y_train_orig, X_test_orig, Y_test_orig, classes = load_dataset()\n",
    "\n",
    "# Normalizing image vectors\n",
    "X_train = X_train_orig / 255.\n",
    "X_test = X_test_orig / 255.\n",
    "\n",
    "# Reshape\n",
    "Y_train = Y_train_orig.T\n",
    "Y_test = Y_test_orig.T\n",
    "\n",
    "print (\"number of training examples = \" + str(X_train.shape[0]))\n",
    "print (\"number of test examples = \" + str(X_test.shape[0]))\n",
    "print (\"X_train shape: \" + str(X_train.shape))\n",
    "print (\"Y_train shape: \" + str(Y_train.shape))\n",
    "print (\"X_test shape: \" + str(X_test.shape))\n",
    "print (\"Y_test shape: \" + str(Y_test.shape))"
   ]
  },
  {
   "cell_type": "code",
   "execution_count": 3,
   "metadata": {},
   "outputs": [],
   "source": [
    "def HappyModel(input_shape):\n",
    "    \n",
    "    X_input = Input(input_shape)\n",
    "    \n",
    "    X = ZeroPadding2D((3, 3))(X_input)\n",
    "    \n",
    "    X = Conv2D(32, (7, 7), strides = (1, 1))(X)\n",
    "    X = BatchNormalization(axis = 3)(X)\n",
    "    X = Activation('relu')(X)\n",
    "    \n",
    "    X = MaxPooling2D((2, 2))(X)\n",
    "    \n",
    "    X = Flatten()(X)\n",
    "    X = Dense(1, activation = 'sigmoid')(X)\n",
    "    \n",
    "    model = Model(inputs = X_input, outputs = X)\n",
    "    \n",
    "    return model"
   ]
  },
  {
   "cell_type": "code",
   "execution_count": 4,
   "metadata": {},
   "outputs": [
    {
     "name": "stdout",
     "output_type": "stream",
     "text": [
      "WARNING:tensorflow:From C:\\Users\\007\\.conda\\envs\\tensorflow_gpu\\lib\\site-packages\\tensorflow\\python\\framework\\op_def_library.py:263: colocate_with (from tensorflow.python.framework.ops) is deprecated and will be removed in a future version.\n",
      "Instructions for updating:\n",
      "Colocations handled automatically by placer.\n"
     ]
    }
   ],
   "source": [
    "happyModel = HappyModel(X_train.shape[1 : ])"
   ]
  },
  {
   "cell_type": "code",
   "execution_count": 5,
   "metadata": {},
   "outputs": [],
   "source": [
    "happyModel.compile(optimizer = 'adam', loss = 'binary_crossentropy', metrics = ['accuracy'])"
   ]
  },
  {
   "cell_type": "code",
   "execution_count": 6,
   "metadata": {},
   "outputs": [
    {
     "name": "stdout",
     "output_type": "stream",
     "text": [
      "WARNING:tensorflow:From C:\\Users\\007\\.conda\\envs\\tensorflow_gpu\\lib\\site-packages\\tensorflow\\python\\ops\\math_ops.py:3066: to_int32 (from tensorflow.python.ops.math_ops) is deprecated and will be removed in a future version.\n",
      "Instructions for updating:\n",
      "Use tf.cast instead.\n",
      "Epoch 1/40\n",
      "600/600 [==============================] - 3s 6ms/step - loss: 1.3103 - acc: 0.6617\n",
      "Epoch 2/40\n",
      "600/600 [==============================] - 3s 5ms/step - loss: 0.2527 - acc: 0.8967\n",
      "Epoch 3/40\n",
      "600/600 [==============================] - 3s 5ms/step - loss: 0.1625 - acc: 0.9417\n",
      "Epoch 4/40\n",
      "600/600 [==============================] - 3s 5ms/step - loss: 0.1304 - acc: 0.9600\n",
      "Epoch 5/40\n",
      "600/600 [==============================] - 3s 5ms/step - loss: 0.0905 - acc: 0.9717\n",
      "Epoch 6/40\n",
      "600/600 [==============================] - 3s 5ms/step - loss: 0.0742 - acc: 0.9733\n",
      "Epoch 7/40\n",
      "600/600 [==============================] - 3s 5ms/step - loss: 0.1002 - acc: 0.9583\n",
      "Epoch 8/40\n",
      "600/600 [==============================] - 3s 5ms/step - loss: 0.0637 - acc: 0.9850\n",
      "Epoch 9/40\n",
      "600/600 [==============================] - 3s 5ms/step - loss: 0.1081 - acc: 0.9600\n",
      "Epoch 10/40\n",
      "600/600 [==============================] - 3s 5ms/step - loss: 0.0640 - acc: 0.9800\n",
      "Epoch 11/40\n",
      "600/600 [==============================] - 3s 5ms/step - loss: 0.0688 - acc: 0.9717\n",
      "Epoch 12/40\n",
      "600/600 [==============================] - 3s 5ms/step - loss: 0.1414 - acc: 0.9550\n",
      "Epoch 13/40\n",
      "600/600 [==============================] - 3s 5ms/step - loss: 0.1027 - acc: 0.9733\n",
      "Epoch 14/40\n",
      "600/600 [==============================] - 3s 5ms/step - loss: 0.1240 - acc: 0.9517\n",
      "Epoch 15/40\n",
      "600/600 [==============================] - 3s 5ms/step - loss: 0.0776 - acc: 0.9783\n",
      "Epoch 16/40\n",
      "600/600 [==============================] - 3s 5ms/step - loss: 0.1351 - acc: 0.9583\n",
      "Epoch 17/40\n",
      "600/600 [==============================] - 3s 5ms/step - loss: 0.0679 - acc: 0.9717\n",
      "Epoch 18/40\n",
      "600/600 [==============================] - 3s 5ms/step - loss: 0.0558 - acc: 0.9817\n",
      "Epoch 19/40\n",
      "600/600 [==============================] - 3s 5ms/step - loss: 0.0556 - acc: 0.9817\n",
      "Epoch 20/40\n",
      "600/600 [==============================] - 3s 5ms/step - loss: 0.0399 - acc: 0.9867\n",
      "Epoch 21/40\n",
      "600/600 [==============================] - 3s 5ms/step - loss: 0.0674 - acc: 0.9817\n",
      "Epoch 22/40\n",
      "600/600 [==============================] - 3s 5ms/step - loss: 0.0569 - acc: 0.9767\n",
      "Epoch 23/40\n",
      "600/600 [==============================] - 3s 5ms/step - loss: 0.0757 - acc: 0.9767\n",
      "Epoch 24/40\n",
      "600/600 [==============================] - 3s 5ms/step - loss: 0.0880 - acc: 0.9733\n",
      "Epoch 25/40\n",
      "600/600 [==============================] - 3s 5ms/step - loss: 0.0661 - acc: 0.9700\n",
      "Epoch 26/40\n",
      "600/600 [==============================] - 3s 5ms/step - loss: 0.0611 - acc: 0.9833\n",
      "Epoch 27/40\n",
      "600/600 [==============================] - 3s 5ms/step - loss: 0.0263 - acc: 0.9917\n",
      "Epoch 28/40\n",
      "600/600 [==============================] - 3s 5ms/step - loss: 0.0319 - acc: 0.9883\n",
      "Epoch 29/40\n",
      "600/600 [==============================] - 3s 5ms/step - loss: 0.0172 - acc: 0.9933\n",
      "Epoch 30/40\n",
      "600/600 [==============================] - 3s 5ms/step - loss: 0.0330 - acc: 0.9883\n",
      "Epoch 31/40\n",
      "600/600 [==============================] - 3s 5ms/step - loss: 0.0406 - acc: 0.9900\n",
      "Epoch 32/40\n",
      "600/600 [==============================] - 3s 5ms/step - loss: 0.0517 - acc: 0.9917\n",
      "Epoch 33/40\n",
      "600/600 [==============================] - 3s 5ms/step - loss: 0.0338 - acc: 0.9883\n",
      "Epoch 34/40\n",
      "600/600 [==============================] - 3s 5ms/step - loss: 0.0784 - acc: 0.9750\n",
      "Epoch 35/40\n",
      "600/600 [==============================] - 3s 5ms/step - loss: 0.0547 - acc: 0.9817\n",
      "Epoch 36/40\n",
      "600/600 [==============================] - 3s 5ms/step - loss: 0.0439 - acc: 0.9900\n",
      "Epoch 37/40\n",
      "600/600 [==============================] - 3s 5ms/step - loss: 0.0264 - acc: 0.9917\n",
      "Epoch 38/40\n",
      "600/600 [==============================] - 3s 5ms/step - loss: 0.0085 - acc: 0.9967\n",
      "Epoch 39/40\n",
      "600/600 [==============================] - 3s 5ms/step - loss: 0.0148 - acc: 0.9967\n",
      "Epoch 40/40\n",
      "600/600 [==============================] - 3s 5ms/step - loss: 0.0301 - acc: 0.9900\n"
     ]
    },
    {
     "data": {
      "text/plain": [
       "<keras.callbacks.History at 0x173c3889390>"
      ]
     },
     "execution_count": 6,
     "metadata": {},
     "output_type": "execute_result"
    }
   ],
   "source": [
    "happyModel.fit(x = X_train, y = Y_train, epochs = 40, batch_size = 16)"
   ]
  },
  {
   "cell_type": "code",
   "execution_count": 7,
   "metadata": {},
   "outputs": [
    {
     "name": "stdout",
     "output_type": "stream",
     "text": [
      "150/150 [==============================] - 0s 3ms/step\n",
      "\n",
      "Loss = 0.08851641231449321\n",
      "Test Accuracy = 0.96\n"
     ]
    }
   ],
   "source": [
    "preds = happyModel.evaluate(X_test, Y_test, batch_size = 16, verbose = 1)\n",
    "\n",
    "print()\n",
    "print(\"Loss = \" + str(preds[0]))\n",
    "print(\"Test Accuracy = \" + str(preds[1]))"
   ]
  },
  {
   "cell_type": "code",
   "execution_count": 8,
   "metadata": {},
   "outputs": [
    {
     "name": "stdout",
     "output_type": "stream",
     "text": [
      "_________________________________________________________________\n",
      "Layer (type)                 Output Shape              Param #   \n",
      "=================================================================\n",
      "input_1 (InputLayer)         (None, 64, 64, 3)         0         \n",
      "_________________________________________________________________\n",
      "zero_padding2d_1 (ZeroPaddin (None, 70, 70, 3)         0         \n",
      "_________________________________________________________________\n",
      "conv2d_1 (Conv2D)            (None, 64, 64, 32)        4736      \n",
      "_________________________________________________________________\n",
      "batch_normalization_1 (Batch (None, 64, 64, 32)        128       \n",
      "_________________________________________________________________\n",
      "activation_1 (Activation)    (None, 64, 64, 32)        0         \n",
      "_________________________________________________________________\n",
      "max_pooling2d_1 (MaxPooling2 (None, 32, 32, 32)        0         \n",
      "_________________________________________________________________\n",
      "flatten_1 (Flatten)          (None, 32768)             0         \n",
      "_________________________________________________________________\n",
      "dense_1 (Dense)              (None, 1)                 32769     \n",
      "=================================================================\n",
      "Total params: 37,633\n",
      "Trainable params: 37,569\n",
      "Non-trainable params: 64\n",
      "_________________________________________________________________\n"
     ]
    }
   ],
   "source": [
    "happyModel.summary()"
   ]
  }
 ],
 "metadata": {
  "kernelspec": {
   "display_name": "Python 3",
   "language": "python",
   "name": "python3"
  },
  "language_info": {
   "codemirror_mode": {
    "name": "ipython",
    "version": 3
   },
   "file_extension": ".py",
   "mimetype": "text/x-python",
   "name": "python",
   "nbconvert_exporter": "python",
   "pygments_lexer": "ipython3",
   "version": "3.6.8"
  }
 },
 "nbformat": 4,
 "nbformat_minor": 2
}
